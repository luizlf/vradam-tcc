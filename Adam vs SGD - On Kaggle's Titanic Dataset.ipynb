{
 "cells": [
  {
   "cell_type": "markdown",
   "metadata": {},
   "source": [
    "## ADAM vs SGD"
   ]
  },
  {
   "cell_type": "markdown",
   "metadata": {},
   "source": [
    "This is a response to Siraj Raval's [Coding Challenge](https://github.com/llSourcell/The_evolution_of_gradient_descent/) to implement the Adam Optimization Strategy. In this notebook, we are building a 3-layer neural network with numpy for the [Kaggle Titanic Dataset](https://www.kaggle.com/c/titanic/data), and comparing the performance difference between a standard Stochastic Gradient Descent and Adam.\n",
    "\n",
    "With reference to:\n",
    "1. [Adam: A method for Stochastic Optimization](https://arxiv.org/abs/1412.6980) by Diederik P. Kingma, Jimmy Ba  \n",
    "2. [CS231: Neural Networks](http://cs231n.github.io/neural-networks-3/#update) by Andrej Karpathy\n",
    "3. [Optimizing Gradient Descent](http://sebastianruder.com/optimizing-gradient-descent/index.html#adam) by Sebastian Ruder"
   ]
  },
  {
   "cell_type": "code",
   "execution_count": 329,
   "metadata": {
    "collapsed": true
   },
   "outputs": [],
   "source": [
    "# Imports\n",
    "%matplotlib inline\n",
    "%config InlineBackend.figure_format = 'retina'\n",
    "\n",
    "import numpy as np\n",
    "import pandas as pd\n",
    "import matplotlib.pyplot as plt\n",
    "\n",
    "np.random.seed(42)"
   ]
  },
  {
   "cell_type": "markdown",
   "metadata": {},
   "source": [
    "## Data Preparation"
   ]
  },
  {
   "cell_type": "code",
   "execution_count": 330,
   "metadata": {
    "collapsed": false
   },
   "outputs": [],
   "source": [
    "train = pd.read_csv('train.csv')\n",
    "\n",
    "# Converting Passenger Class and Embarked Location to binary variables\n",
    "dummy_fields = ['Sex', 'Pclass', 'Embarked']\n",
    "for i in dummy_fields:\n",
    "    dummies = pd.get_dummies(train[i], prefix=i, drop_first=False)\n",
    "    train = pd.concat([train, dummies], axis=1)\n",
    "\n",
    "# Dropping unneeded columns \n",
    "fields_to_drop = ['PassengerId', 'Ticket', 'Name', 'Cabin', 'Fare', 'Pclass', 'Embarked', 'Sex']\n",
    "data = train.drop(fields_to_drop, axis=1)"
   ]
  },
  {
   "cell_type": "code",
   "execution_count": 331,
   "metadata": {
    "collapsed": false
   },
   "outputs": [],
   "source": [
    "# Normalising Age\n",
    "mean, std = data['Age'].mean(), data['Age'].std()\n",
    "data.loc[:, 'Age'] = (data['Age'] - mean)/std\n",
    "\n",
    "data = data.fillna(0) # Replace NaN age with mean (0)"
   ]
  },
  {
   "cell_type": "code",
   "execution_count": 332,
   "metadata": {
    "collapsed": true
   },
   "outputs": [],
   "source": [
    "# Shuffle Data \n",
    "data = data.sample(frac=1).reset_index(drop=True)\n",
    "\n",
    "# Splitting Data into Train Val and Test Set\n",
    "features, targets = data.drop('Survived', axis=1), data['Survived'] \n",
    "targets = targets.values.reshape(-1, 1) # reshaping to numpy n x 1 matrix\n",
    "\n",
    "test_X, test_y = features[-120:], targets[-120:]\n",
    "val_X, val_y = features[-200:-120], targets[-200:-120]\n",
    "train_X, train_y = features[:-200], targets[:-200]"
   ]
  },
  {
   "cell_type": "markdown",
   "metadata": {},
   "source": [
    "## Neural Network"
   ]
  },
  {
   "cell_type": "code",
   "execution_count": 379,
   "metadata": {
    "collapsed": false
   },
   "outputs": [],
   "source": [
    "class NeuralNetwork(object):\n",
    "    def __init__(self, input_nodes, hidden_nodes, output_nodes, learning_rate, weights_init):\n",
    "        self.input_nodes = input_nodes\n",
    "        self.hidden_nodes = hidden_nodes\n",
    "        self.output_nodes = output_nodes\n",
    "        self.lr = learning_rate\n",
    "        self.l2_m = 0\n",
    "        self.l1_m = 0\n",
    "        self.l2_v = 0\n",
    "        self.l1_v = 0\n",
    "        self.t = 0\n",
    "        self.mu_grads = None\n",
    "        self.mu_til = None\n",
    "        self.n = None\n",
    "        \n",
    "        # Weights Initilization\n",
    "        self.w0 = weights_init[0]\n",
    "        self.w1 = weights_init[1]\n",
    "        \n",
    "        def sigmoid(x, deriv=False):\n",
    "            if deriv:\n",
    "                return x*(1-x)\n",
    "            return 1/(1+np.exp(-x))\n",
    "        \n",
    "        self.activation_function = sigmoid\n",
    "        \n",
    "    def train(self, features, targets, optimizer, decay_rate_1 = None, \n",
    "              decay_rate_2 = None, epsilon = None, batch_size=None, is_stage=False, \n",
    "              w_til=None, mu_til=None):\n",
    "        \n",
    "        def gradients(feat, w0, w1, is_sgd=False):\n",
    "            # Feed Forward\n",
    "            l0 = feat\n",
    "            l1 = self.activation_function(np.dot(l0, w0))\n",
    "            #print(l0.shape, l1.shape, w0.shape, w1.shape)\n",
    "            l2 = self.activation_function(np.dot(l1, w1))\n",
    "            \n",
    "            #return\n",
    "            # Backpropagation\n",
    "            l2_error = l2 - targets\n",
    "            l2_delta = l2_error * self.activation_function(l2, deriv=True)\n",
    "            l1_error = l2_delta.dot(w1.T)\n",
    "            l1_delta = l1_error * self.activation_function(l1, deriv=True)\n",
    "            if is_sgd:\n",
    "                return l0, l1, l1_delta, l2_delta\n",
    "            # Gradients for each layer\n",
    "            g1 = l1.T.dot(l2_delta)\n",
    "            g0 = l0.T.dot(l1_delta)\n",
    "            return g0, g1\n",
    "        \n",
    "        #print(is_stage)\n",
    "        if is_stage:\n",
    "            #print('start stage')\n",
    "            self.w_til = [self.w0.copy(), self.w1.copy()]\n",
    "            g0, g1 = gradients(features, self.w_til[0], self.w_til[1])\n",
    "            #print('end stage')\n",
    "            self.n = features.shape[0]/batch_size\n",
    "            self.mu_grads = [self.n*g0, self.n*g1]\n",
    "           \n",
    "            return\n",
    "        else:\n",
    "            g0, g1 = gradients(features, self.w0, self.w1)\n",
    "        \n",
    "        if optimizer == 'svrg':\n",
    "            # gradient with w_til\n",
    "            g_til_0, g_til_1 = gradients(features, self.w_til[0], self.w_til[1])\n",
    "            #print(g_til_0)\n",
    "            self.t += 1 # Increment Time Step\n",
    "\n",
    "            g1 = g1 - g_til_1 + self.mu_grads[1]\n",
    "            #print(g1[0])\n",
    "            #if self.t == 40:\n",
    "            #    return\n",
    "            g0 = g0 - g_til_0 + self.mu_grads[0]\n",
    "\n",
    "            self.w1 -= (self.lr * g1)\n",
    "            self.w0 -= (self.lr * g0)\n",
    "        \n",
    "        if optimizer == 'vradam':\n",
    "            # gradient with w_til\n",
    "            g_til_0, g_til_1 = gradients(features, self.w_til[0], self.w_til[1])\n",
    "            \n",
    "            self.t += 1 # Increment Time Step\n",
    "            \n",
    "            g1 = g1 - g_til_1 + self.mu_grads[1]\n",
    "            g0 = g0 - g_til_0 + self.mu_grads[0]\n",
    "            \n",
    "            # Computing 1st and 2nd moment for each layer\n",
    "            self.l2_m = self.l2_m * decay_rate_1 + (1- decay_rate_1) * g1\n",
    "            self.l1_m = self.l1_m * decay_rate_1 + (1- decay_rate_1) * g0\n",
    "            \n",
    "            self.l2_v = self.l2_v * decay_rate_2 + (1- decay_rate_2) * (g1 ** 2)\n",
    "            self.l1_v = self.l1_v * decay_rate_2 + (1- decay_rate_2) * (g0 ** 2)\n",
    "            \n",
    "            l2_m_corrected = self.l2_m / (1-(decay_rate_1 ** self.t))\n",
    "            l2_v_corrected = self.l2_v / (1-(decay_rate_2 ** self.t))\n",
    "            \n",
    "            # Computing bias-corrected moment\n",
    "            l1_m_corrected = self.l1_m / (1-(decay_rate_1 ** self.t))\n",
    "            l1_v_corrected = self.l1_v / (1-(decay_rate_2 ** self.t))\n",
    "            \n",
    "            # Update Weights\n",
    "            w1_update = l2_m_corrected / (np.sqrt(l2_v_corrected) + epsilon)\n",
    "            w0_update = l1_m_corrected / (np.sqrt(l1_v_corrected) + epsilon)\n",
    "            \n",
    "            self.w1 -= (self.lr * w1_update)\n",
    "            self.w0 -= (self.lr * w0_update)\n",
    "\n",
    "        if optimizer == 'sgd':\n",
    "            l0, l1, l1_delta, l2_delta = gradients(features, self.w0, self.w1, is_sgd=True)\n",
    "            # Update Weights\n",
    "            self.w1 -= self.lr * l1.T.dot(l2_delta)\n",
    "            self.w0 -= self.lr * l0.T.dot(l1_delta)\n",
    "            \n",
    "        if optimizer == 'adam':\n",
    "            # Gradients for each layer\n",
    "            #g1 = l1.T.dot(l2_delta)\n",
    "            #g0 = l0.T.dot(l1_delta)\n",
    "            \n",
    "            self.t += 1 # Increment Time Step\n",
    "            \n",
    "            # Computing 1st and 2nd moment for each layer\n",
    "            self.l2_m = self.l2_m * decay_rate_1 + (1- decay_rate_1) * g1\n",
    "            self.l1_m = self.l1_m * decay_rate_1 + (1- decay_rate_1) * g0\n",
    "            \n",
    "            self.l2_v = self.l2_v * decay_rate_2 + (1- decay_rate_2) * (g1 ** 2)\n",
    "            self.l1_v = self.l1_v * decay_rate_2 + (1- decay_rate_2) * (g0 ** 2)\n",
    "            \n",
    "            l2_m_corrected = self.l2_m / (1-(decay_rate_1 ** self.t))\n",
    "            l2_v_corrected = self.l2_v / (1-(decay_rate_2 ** self.t))\n",
    "            \n",
    "            # Computing bias-corrected moment\n",
    "            l1_m_corrected = self.l1_m / (1-(decay_rate_1 ** self.t))\n",
    "            l1_v_corrected = self.l1_v / (1-(decay_rate_2 ** self.t))\n",
    "            \n",
    "            # Update Weights\n",
    "            w1_update = l2_m_corrected / (np.sqrt(l2_v_corrected) + epsilon)\n",
    "            w0_update = l1_m_corrected / (np.sqrt(l1_v_corrected) + epsilon)\n",
    "            \n",
    "            self.w1 -= (self.lr * w1_update)\n",
    "            self.w0 -= (self.lr * w0_update)\n",
    "            \n",
    "    def run(self, features):\n",
    "        l0 = features\n",
    "        l1 = self.activation_function(np.dot(l0, self.w0))\n",
    "        l2 = self.activation_function(np.dot(l1, self.w1))\n",
    "        \n",
    "        return l2\n"
   ]
  },
  {
   "cell_type": "code",
   "execution_count": 380,
   "metadata": {
    "collapsed": false
   },
   "outputs": [],
   "source": [
    "def MSE(y, Y):\n",
    "    return np.mean((y-Y)**2)"
   ]
  },
  {
   "cell_type": "markdown",
   "metadata": {},
   "source": [
    "## Training"
   ]
  },
  {
   "cell_type": "code",
   "execution_count": 381,
   "metadata": {},
   "outputs": [
    {
     "data": {
      "text/plain": [
       "0"
      ]
     },
     "execution_count": 381,
     "metadata": {},
     "output_type": "execute_result"
    }
   ],
   "source": [
    "12%12"
   ]
  },
  {
   "cell_type": "code",
   "execution_count": 386,
   "metadata": {
    "collapsed": false,
    "scrolled": true
   },
   "outputs": [],
   "source": [
    "import time\n",
    "\n",
    "def build_network(network, epochs, optimizer, batch_size = None, stage_size=None):\n",
    "    losses = {'train':[], 'validation':[]} # For Plotting of MSE\n",
    "    \n",
    "    start = time.time()\n",
    "    train_loss = MSE(network.run(train_X), train_y)\n",
    "    val_loss = MSE(network.run(val_X), val_y)\n",
    "    losses['train'].append(train_loss)\n",
    "    losses['validation'].append(val_loss)\n",
    "    print(range(train_X.shape[0]// batch_size))\n",
    "    n = train_X.shape[0]\n",
    "    print(n)\n",
    "    #w_tilde_old = []\n",
    "    #w_tilde_old.append(np.random.normal(0.0, 0.1, (network.input_nodes, network.hidden_nodes)))\n",
    "    #w_tilde_old.append(np.random.normal(0.0, 0.1, (network.hidden_nodes, network.output_nodes)))\n",
    "    #print(w_tilde_old[0].shape)\n",
    "    # Iterating Over Epochs\n",
    "    for i in range(epochs):\n",
    "        if optimizer == 'sgd':\n",
    "            # Iterating over mini batches\n",
    "            for k in range(train_X.shape[0]// batch_size):\n",
    "                batch = np.random.choice(train_X.index, size=batch_size)\n",
    "                X, y = train_X.ix[batch].values, train_y[batch]\n",
    "\n",
    "                network.train(X, y, optimizer)\n",
    "\n",
    "            train_loss = MSE(network.run(train_X), train_y)\n",
    "            val_loss = MSE(network.run(val_X), val_y)\n",
    "\n",
    "            if i % 100 == 0:\n",
    "                print('Epoch {}, Train Loss: {}, Val Loss: {}'.format(i, train_loss, val_loss))\n",
    "                \n",
    "        if optimizer == 'adam':\n",
    "            # Iterating over mini batches\n",
    "            for k in range(train_X.shape[0]// batch_size):\n",
    "                batch = np.random.choice(train_X.index, size=batch_size)\n",
    "                X, y = train_X.ix[batch].values, train_y[batch]\n",
    "                network.train(X, \n",
    "                              y, \n",
    "                              optimizer,\n",
    "                              decay_rate_1 = 0.9,\n",
    "                              decay_rate_2 = 0.99,\n",
    "                              epsilon = 10e-8)\n",
    "\n",
    "            train_loss = MSE(network.run(train_X), train_y)\n",
    "            val_loss = MSE(network.run(val_X), val_y)\n",
    "\n",
    "            if i % 100 == 0:\n",
    "                print('Epoch {}, Train Loss: {}, Val Loss: {}'.format(i, train_loss, val_loss))\n",
    "\n",
    "                \n",
    "        if optimizer == 'vradam':\n",
    "            decay_1 = 0.9\n",
    "            decay_2 = 0.99\n",
    "            eps = 10e-8\n",
    "            \n",
    "            for k in range(train_X.shape[0]// batch_size):\n",
    "\n",
    "                if k % stage_size == 0:\n",
    "                    #print('stage {}'.format(k))\n",
    "            #w_tilde = w_tilde_old\n",
    "            # full grads with tilde\n",
    "                    network.train(train_X.values, train_y, optimizer, decay_rate_1 = decay_1, \n",
    "                                  decay_rate_2 = decay_2, epsilon = eps,\n",
    "                                  batch_size=batch_size,\n",
    "                                  is_stage=True)\n",
    "\n",
    "                else:\n",
    "\n",
    "                    batch = np.random.choice(train_X.index, size=batch_size)\n",
    "                    X, y = train_X.ix[batch].values, train_y[batch]\n",
    "                    network.train(X, \n",
    "                                  y, \n",
    "                                  optimizer,\n",
    "                                  decay_rate_1 = decay_1,\n",
    "                                  decay_rate_2 = decay_2,\n",
    "                                  epsilon = eps,\n",
    "                                  batch_size=batch_size)\n",
    "\n",
    "            #w_tilde_old = [network.w0, network.w1]\n",
    "            train_loss = MSE(network.run(train_X), train_y)\n",
    "            val_loss = MSE(network.run(val_X), val_y)\n",
    "\n",
    "            if i % 100 == 0:\n",
    "                print('Epoch {}, Train Loss: {}, Val Loss: {}'.format(i, train_loss, val_loss))\n",
    "        \n",
    "        if optimizer == 'svrg':\n",
    "            #print('svrg')\n",
    "            decay_1 = 0.9\n",
    "            decay_2 = 0.99\n",
    "            eps = 10e-8\n",
    "            \n",
    "            for k in range(train_X.shape[0]// batch_size):\n",
    "\n",
    "                if k % stage_size == 0:\n",
    "                    #print('stage {}'.format(k))\n",
    "            #w_tilde = w_tilde_old\n",
    "            # full grads with tilde\n",
    "                    network.train(train_X.values, train_y, optimizer, decay_rate_1 = decay_1, \n",
    "                                  decay_rate_2 = decay_2, epsilon = eps,\n",
    "                                  batch_size=batch_size,\n",
    "                                  is_stage=True)\n",
    "\n",
    "                else:\n",
    "\n",
    "                    batch = np.random.choice(train_X.index, size=batch_size)\n",
    "                    X, y = train_X.ix[batch].values, train_y[batch]\n",
    "                    network.train(X, \n",
    "                                  y, \n",
    "                                  optimizer,\n",
    "                                  decay_rate_1 = decay_1,\n",
    "                                  decay_rate_2 = decay_2,\n",
    "                                  epsilon = eps,\n",
    "                                  batch_size=batch_size)\n",
    "\n",
    "            #w_tilde_old = [network.w0, network.w1]\n",
    "            train_loss = MSE(network.run(train_X), train_y)\n",
    "            val_loss = MSE(network.run(val_X), val_y)\n",
    "\n",
    "            if i % 100 == 0:\n",
    "                print('Epoch {}, Train Loss: {}, Val Loss: {}'.format(i, train_loss, val_loss))\n",
    "\n",
    "        losses['train'].append(train_loss)\n",
    "        losses['validation'].append(val_loss)\n",
    "        \n",
    "    print('Time Taken:{0:.4f}s'.format(time.time()-start))\n",
    "    return losses"
   ]
  },
  {
   "cell_type": "code",
   "execution_count": 391,
   "metadata": {
    "collapsed": false
   },
   "outputs": [
    {
     "name": "stdout",
     "output_type": "stream",
     "text": [
      "Training Model with Adam\n",
      "range(0, 10)\n",
      "691\n",
      "Epoch 0, Train Loss: 0.25930011886802423, Val Loss: 0.25637459167084387\n"
     ]
    },
    {
     "name": "stderr",
     "output_type": "stream",
     "text": [
      "/Users/luizfelipe/anaconda3/lib/python3.6/site-packages/ipykernel_launcher.py:38: DeprecationWarning: \n",
      ".ix is deprecated. Please use\n",
      ".loc for label based indexing or\n",
      ".iloc for positional indexing\n",
      "\n",
      "See the documentation here:\n",
      "http://pandas.pydata.org/pandas-docs/stable/indexing.html#ix-indexer-is-deprecated\n"
     ]
    },
    {
     "name": "stdout",
     "output_type": "stream",
     "text": [
      "Epoch 100, Train Loss: 0.23195358634012905, Val Loss: 0.23918474158396155\n",
      "Epoch 200, Train Loss: 0.22106530211762654, Val Loss: 0.23178084942165053\n",
      "Epoch 300, Train Loss: 0.2064337196007657, Val Loss: 0.2202043746795888\n",
      "Epoch 400, Train Loss: 0.19069196802406868, Val Loss: 0.20711388527207472\n",
      "Epoch 500, Train Loss: 0.1759774675993148, Val Loss: 0.19285014563926434\n",
      "Epoch 600, Train Loss: 0.16428044453043486, Val Loss: 0.18147968184489333\n",
      "Epoch 700, Train Loss: 0.15562740665059938, Val Loss: 0.17168046663326883\n",
      "Epoch 800, Train Loss: 0.14980195575521754, Val Loss: 0.16534067208564088\n",
      "Epoch 900, Train Loss: 0.14635831507952407, Val Loss: 0.16124072623921437\n",
      "Epoch 1000, Train Loss: 0.14422000149701056, Val Loss: 0.1592826844338766\n",
      "Epoch 1100, Train Loss: 0.14284584973048678, Val Loss: 0.15788031585839826\n",
      "Time Taken:17.7700s\n",
      "\n",
      "Training Model with SGD\n",
      "range(0, 10)\n",
      "691\n",
      "Epoch 0, Train Loss: 0.25918848945310957, Val Loss: 0.2563167138200052\n"
     ]
    },
    {
     "name": "stderr",
     "output_type": "stream",
     "text": [
      "/Users/luizfelipe/anaconda3/lib/python3.6/site-packages/ipykernel_launcher.py:24: DeprecationWarning: \n",
      ".ix is deprecated. Please use\n",
      ".loc for label based indexing or\n",
      ".iloc for positional indexing\n",
      "\n",
      "See the documentation here:\n",
      "http://pandas.pydata.org/pandas-docs/stable/indexing.html#ix-indexer-is-deprecated\n"
     ]
    },
    {
     "name": "stdout",
     "output_type": "stream",
     "text": [
      "Epoch 100, Train Loss: 0.2380709604496564, Val Loss: 0.24398490627251182\n",
      "Epoch 200, Train Loss: 0.23643397709040845, Val Loss: 0.244248282234927\n",
      "Epoch 300, Train Loss: 0.23573093697827027, Val Loss: 0.24425409245315333\n",
      "Epoch 400, Train Loss: 0.2350909238696332, Val Loss: 0.24372338412020414\n",
      "Epoch 500, Train Loss: 0.2344086435304127, Val Loss: 0.2430248851254592\n",
      "Epoch 600, Train Loss: 0.23367402145733104, Val Loss: 0.2422686140391929\n",
      "Epoch 700, Train Loss: 0.2328890476828105, Val Loss: 0.24158963104840864\n",
      "Epoch 800, Train Loss: 0.23202446549476147, Val Loss: 0.2408204313567724\n",
      "Epoch 900, Train Loss: 0.23106986836032029, Val Loss: 0.23998744860794746\n",
      "Epoch 1000, Train Loss: 0.23000037045180557, Val Loss: 0.23865022995955038\n",
      "Epoch 1100, Train Loss: 0.2288188266785304, Val Loss: 0.23751959079228877\n",
      "Time Taken:16.4049s\n",
      "Training Model with Vradam\n",
      "range(0, 10)\n",
      "691\n",
      "Epoch 0, Train Loss: 0.2593021431027837, Val Loss: 0.2563764342785364\n"
     ]
    },
    {
     "name": "stderr",
     "output_type": "stream",
     "text": [
      "/Users/luizfelipe/anaconda3/lib/python3.6/site-packages/ipykernel_launcher.py:72: DeprecationWarning: \n",
      ".ix is deprecated. Please use\n",
      ".loc for label based indexing or\n",
      ".iloc for positional indexing\n",
      "\n",
      "See the documentation here:\n",
      "http://pandas.pydata.org/pandas-docs/stable/indexing.html#ix-indexer-is-deprecated\n"
     ]
    },
    {
     "name": "stdout",
     "output_type": "stream",
     "text": [
      "Epoch 100, Train Loss: 0.23100645738126468, Val Loss: 0.2391901418747157\n",
      "Epoch 200, Train Loss: 0.21470750946612038, Val Loss: 0.2290703113577432\n",
      "Epoch 300, Train Loss: 0.19529942940862674, Val Loss: 0.21302061652402338\n",
      "Epoch 400, Train Loss: 0.17575492401669626, Val Loss: 0.19556056874609123\n",
      "Epoch 500, Train Loss: 0.1592816486322724, Val Loss: 0.1789608885209375\n",
      "Epoch 600, Train Loss: 0.14786874183805584, Val Loss: 0.16514157031143778\n",
      "Epoch 700, Train Loss: 0.14165504917480512, Val Loss: 0.1562222896096191\n",
      "Epoch 800, Train Loss: 0.13880762085739196, Val Loss: 0.1529423441660188\n",
      "Epoch 900, Train Loss: 0.13692851725430802, Val Loss: 0.1526228125147079\n",
      "Epoch 1000, Train Loss: 0.13508340794913604, Val Loss: 0.15146025032974955\n",
      "Epoch 1100, Train Loss: 0.1330561814842474, Val Loss: 0.1494294169478336\n",
      "Time Taken:14.7272s\n",
      "Training Model with SVRG\n",
      "range(0, 10)\n",
      "691\n",
      "Epoch 0, Train Loss: 0.2421200193100226, Val Loss: 0.256132243988213\n"
     ]
    },
    {
     "name": "stderr",
     "output_type": "stream",
     "text": [
      "/Users/luizfelipe/anaconda3/lib/python3.6/site-packages/ipykernel_launcher.py:108: DeprecationWarning: \n",
      ".ix is deprecated. Please use\n",
      ".loc for label based indexing or\n",
      ".iloc for positional indexing\n",
      "\n",
      "See the documentation here:\n",
      "http://pandas.pydata.org/pandas-docs/stable/indexing.html#ix-indexer-is-deprecated\n"
     ]
    },
    {
     "name": "stdout",
     "output_type": "stream",
     "text": [
      "Epoch 100, Train Loss: 0.14000508452300264, Val Loss: 0.15544028101359442\n",
      "Epoch 200, Train Loss: 0.1378625289950205, Val Loss: 0.15685142093465942\n",
      "Epoch 300, Train Loss: 0.1359509927335282, Val Loss: 0.1555379464033161\n",
      "Epoch 400, Train Loss: 0.13320437278586358, Val Loss: 0.15216369398165108\n",
      "Epoch 500, Train Loss: 0.13039445021690646, Val Loss: 0.1479461226477393\n",
      "Epoch 600, Train Loss: 0.1281754790709508, Val Loss: 0.1443796405389977\n",
      "Epoch 700, Train Loss: 0.12661249476951716, Val Loss: 0.1418533070866596\n",
      "Epoch 800, Train Loss: 0.12556532142638435, Val Loss: 0.140155133638012\n",
      "Epoch 900, Train Loss: 0.12484228670005691, Val Loss: 0.13906061428131905\n",
      "Epoch 1000, Train Loss: 0.12430444534282675, Val Loss: 0.1384246503062286\n",
      "Epoch 1100, Train Loss: 0.12386922672614671, Val Loss: 0.138135006291075\n",
      "Time Taken:13.7907s\n"
     ]
    }
   ],
   "source": [
    "epochs = 1200\n",
    "learning_rate = 0.0001\n",
    "hidden_nodes = 15\n",
    "output_nodes = 1\n",
    "batch_size = 64\n",
    "\n",
    "init_w0 = np.random.normal(0.0, 0.1, (train_X.shape[1], hidden_nodes))\n",
    "init_w1 = np.random.normal(0.0, 0.1, (hidden_nodes, output_nodes))\n",
    "\n",
    "init_weights = [init_w0.copy(), init_w1.copy()]\n",
    "network_adam = NeuralNetwork(train_X.shape[1], hidden_nodes, output_nodes, learning_rate, init_weights)\n",
    "init_weights = [init_w0.copy(), init_w1.copy()]\n",
    "network_sgd = NeuralNetwork(train_X.shape[1], hidden_nodes, output_nodes, learning_rate, init_weights)\n",
    "init_weights = [init_w0.copy(), init_w1.copy()]\n",
    "network_vradam = NeuralNetwork(train_X.shape[1], hidden_nodes, output_nodes, learning_rate, init_weights)\n",
    "init_weights = [init_w0.copy(), init_w1.copy()]\n",
    "network_svrg = NeuralNetwork(train_X.shape[1], hidden_nodes, output_nodes, learning_rate, init_weights)\n",
    "\n",
    "print('Training Model with Adam')\n",
    "losses_adam = build_network(network_adam, epochs, 'adam', batch_size)\n",
    "\n",
    "print('\\nTraining Model with SGD')\n",
    "losses_sgd = build_network(network_sgd, epochs, 'sgd', batch_size)\n",
    "\n",
    "print('Training Model with Vradam')\n",
    "losses_vradam = build_network(network_vradam, epochs, 'vradam', batch_size, stage_size=60)\n",
    "\n",
    "print('Training Model with SVRG')\n",
    "losses_svrg = build_network(network_svrg, epochs, 'svrg', batch_size, stage_size=60)"
   ]
  },
  {
   "cell_type": "code",
   "execution_count": 392,
   "metadata": {
    "collapsed": false
   },
   "outputs": [
    {
     "data": {
      "text/plain": [
       "<matplotlib.legend.Legend at 0x1187a6eb8>"
      ]
     },
     "execution_count": 392,
     "metadata": {},
     "output_type": "execute_result"
    },
    {
     "data": {
      "image/png": "[encoded data removed]",
      "text/plain": [
       "<Figure size 432x288 with 1 Axes>"
      ]
     },
     "metadata": {
      "image/png": {
       "height": 250,
       "width": 380
      }
     },
     "output_type": "display_data"
    }
   ],
   "source": [
    "plt.plot(losses_adam['train'], label='Adam Training Loss')\n",
    "#plt.plot(losses_adam['validation'], label='Adam Validation Loss')\n",
    "plt.plot(losses_sgd['train'], label='SGD Training Loss')\n",
    "#plt.plot(losses_sgd['validation'], label='SGD Validation Loss')\n",
    "plt.plot(losses_vradam['train'], label='Vradam Training Loss')\n",
    "plt.plot(losses_svrg['train'], label='SVRG Training Loss')\n",
    "plt.legend()\n",
    "#_ = plt.ylim()"
   ]
  },
  {
   "cell_type": "markdown",
   "metadata": {},
   "source": [
    "From the plots, we can observed that using Adam, weights of the neural network are more smoothly adjusted to reduce the training loss. Try increasing the learning rate, and you can see that Adam converges much faster compared to SGD, using an adaptive learning rate.\n",
    "\n",
    "The benefits of using Adam are not so obvious as the size of the data is very small and increasing training epochs tend to lead to overfitting and early-stopping is required. It is recommended to set the epochs for Adam to around 200 for the above hyperparameters configuration, as the training and validation loss starts diverging. However, we kept the epochs for both networks the same for plotting.\n",
    "\n",
    "Lastly, in this implementation, Adam is much faster to compute compared to SGD as it is processed as an entire training batch.  "
   ]
  },
  {
   "cell_type": "markdown",
   "metadata": {},
   "source": [
    "## Test Model"
   ]
  },
  {
   "cell_type": "markdown",
   "metadata": {},
   "source": [
    "Here, we will compare between the models trained wih Adam and SGD on the test set."
   ]
  },
  {
   "cell_type": "code",
   "execution_count": 213,
   "metadata": {},
   "outputs": [
    {
     "data": {
      "text/plain": [
       "array([[ 0.36833136,  0.57642506,  0.48391093,  0.13797108],\n",
       "       [ 0.09054967,  0.22118765,  0.17925458, -0.31568434],\n",
       "       [-0.12348823, -0.39299585, -0.25713291, -0.47790732],\n",
       "       [-0.41823624, -0.4539356 , -0.56111496, -0.20466285],\n",
       "       [ 0.19627821,  0.40111742,  0.33024536,  0.19917648],\n",
       "       [-0.57123976, -0.49724788, -0.31590105, -0.12331854],\n",
       "       [-0.2046578 , -0.35586984, -0.27332082, -0.571436  ],\n",
       "       [ 0.50564054,  0.50741331,  0.479218  ,  0.23166428],\n",
       "       [-0.40528331, -0.38338518, -0.43822034, -0.13536775],\n",
       "       [ 0.29193203,  0.19159439,  0.17396824,  0.0436341 ],\n",
       "       [ 0.37254269,  0.21440352,  0.26129528, -0.16076237]])"
      ]
     },
     "execution_count": 213,
     "metadata": {},
     "output_type": "execute_result"
    }
   ],
   "source": [
    "network_vradam.w0.copy()"
   ]
  },
  {
   "cell_type": "code",
   "execution_count": 735,
   "metadata": {
    "collapsed": false
   },
   "outputs": [],
   "source": [
    "def test_model(network):\n",
    "    test_predictions = network.run(test_X)\n",
    "    correct = 0\n",
    "    total = 0\n",
    "    for i in range(len(test_predictions)):\n",
    "        total += 1\n",
    "        if test_predictions[i] < 0.5 and test_y[i] == 0:\n",
    "            correct += 1\n",
    "        elif test_predictions[i] >= 0.5 and test_y[i] == 1:\n",
    "            correct += 1\n",
    "    return correct/total\n",
    "    "
   ]
  },
  {
   "cell_type": "code",
   "execution_count": 736,
   "metadata": {
    "collapsed": false
   },
   "outputs": [
    {
     "name": "stdout",
     "output_type": "stream",
     "text": [
      "Adam Test Accuracy: 0.85\n",
      "SGD Test Accuracy: 0.85\n"
     ]
    }
   ],
   "source": [
    "print('Adam Test Accuracy: {}'.format(test_model(network_adam)))\n",
    "print('SGD Test Accuracy: {}'.format(test_model(network_sgd)))"
   ]
  },
  {
   "cell_type": "markdown",
   "metadata": {},
   "source": [
    "With an accuracy of 85%, we are placed under the top 100 for the Titanic Machine Learning challenge! Try adding more layers/ dropout to the neural network or swapping out sigmoid for relu or optimize the hyperparameters to improve the accuracy."
   ]
  }
 ],
 "metadata": {
  "kernelspec": {
   "display_name": "Python 3",
   "language": "python",
   "name": "python3"
  },
  "language_info": {
   "codemirror_mode": {
    "name": "ipython",
    "version": 3
   },
   "file_extension": ".py",
   "mimetype": "text/x-python",
   "name": "python",
   "nbconvert_exporter": "python",
   "pygments_lexer": "ipython3",
   "version": "3.6.5"
  }
 },
 "nbformat": 4,
 "nbformat_minor": 2
}
